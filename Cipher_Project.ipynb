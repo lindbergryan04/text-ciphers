{
 "cells": [
  {
   "cell_type": "code",
   "execution_count": 1,
   "metadata": {},
   "outputs": [],
   "source": [
    "# --- Dictionaries for Conversion ---\n",
    "abc_to_123 = {chr(i+96): i for i in range(1, 27)}\n",
    "_123_to_abc = {i: chr((i-1)%26 + 97) for i in range(1, 53)}\n",
    "\n",
    "special_chars = {\n",
    "    ' ': 55, '.': 56, '!': 57, '?': 58, '@': 59, ',': 60,\n",
    "    '1': 61, '2': 62, '3': 63, '4': 64, '5': 65,\n",
    "    '6': 66, '7': 67, '8': 68, '9': 69, '0': 70\n",
    "}\n",
    "special_nums = {v: k for k, v in special_chars.items()}"
   ]
  },
  {
   "cell_type": "code",
   "execution_count": 2,
   "metadata": {},
   "outputs": [],
   "source": [
    "# --- Helper Functions ---\n",
    "\n",
    "def validate_key(key):\n",
    "    if not key.isalpha():\n",
    "        raise ValueError(\"Cipher key must contain only alphabetic characters.\")\n",
    "\n",
    "def char_to_num(letter):\n",
    "    letter = letter.lower()\n",
    "    return abc_to_123.get(letter)\n",
    "\n",
    "def num_to_char(num):\n",
    "    if num in _123_to_abc:\n",
    "        return _123_to_abc[num]\n",
    "    return special_nums.get(num, '')\n",
    "\n",
    "def shift_letter(letter, shift_amount, encrypt=True):\n",
    "    num = char_to_num(letter)\n",
    "    if num is None:\n",
    "        return special_chars.get(letter)\n",
    "\n",
    "    if encrypt:\n",
    "        shifted = (num + shift_amount - 1) % 26 + 1\n",
    "    else:\n",
    "        shifted = (num - shift_amount) % 26\n",
    "        shifted = shifted if shifted != 0 else 26\n",
    "\n",
    "    return shifted\n",
    "\n",
    "def convert_nums_to_text(num_list):\n",
    "    return ''.join(num_to_char(num) for num in num_list)"
   ]
  },
  {
   "cell_type": "code",
   "execution_count": 11,
   "metadata": {},
   "outputs": [],
   "source": [
    "def output_result(result, encrypting):\n",
    "    if encrypting:\n",
    "        print(\"\\nYour ciphered message is:\\n\" + result)\n",
    "    else:\n",
    "        print(\"\\nYour deciphered message is:\\n\" + result)"
   ]
  },
  {
   "cell_type": "code",
   "execution_count": 12,
   "metadata": {},
   "outputs": [],
   "source": [
    "# --- Cipher Functions ---\n",
    "\n",
    "def CaesarCipher(e_or_d):\n",
    "    while True:\n",
    "        try:\n",
    "            rotation = int(input('What is the offset amount for this Cipher? (0-26): '))\n",
    "            if not (0 <= rotation <= 26):\n",
    "                raise ValueError\n",
    "            break\n",
    "        except ValueError:\n",
    "            print('Invalid input. Please enter a number between 0 and 26.')\n",
    "\n",
    "    message = input('\\nEnter the message: ')\n",
    "    encrypting = (e_or_d == 'e')\n",
    "\n",
    "    val_list = []\n",
    "    for letter in message:\n",
    "        shifted = shift_letter(letter, rotation, encrypt=encrypting)\n",
    "        if shifted is not None:\n",
    "            val_list.append(shifted)\n",
    "        else:\n",
    "            print(f\"Warning: Unrecognized character '{letter}' ignored.\")\n",
    "\n",
    "    result = convert_nums_to_text(val_list)\n",
    "    output_result(result, encrypting)"
   ]
  },
  {
   "cell_type": "code",
   "execution_count": 13,
   "metadata": {},
   "outputs": [],
   "source": [
    "def VigenereCipher(e_or_d):\n",
    "    while True:\n",
    "        cipher_key = input(\"Enter your cipher key (letters only): \")\n",
    "        try:\n",
    "            validate_key(cipher_key)\n",
    "            break\n",
    "        except ValueError as e:\n",
    "            print(e)\n",
    "\n",
    "    message = input('\\nEnter the message: ')\n",
    "    key_nums = [char_to_num(k) for k in cipher_key.lower()]\n",
    "    encrypting = (e_or_d == 'e')\n",
    "\n",
    "    val_list = []\n",
    "    key_ctr = 0\n",
    "    for letter in message:\n",
    "        if letter.lower() in abc_to_123:\n",
    "            shift = key_nums[key_ctr] - 1\n",
    "            shifted = shift_letter(letter, shift, encrypt=encrypting)\n",
    "            val_list.append(shifted)\n",
    "            key_ctr = (key_ctr + 1) % len(key_nums)\n",
    "        else:\n",
    "            special = special_chars.get(letter)\n",
    "            if special is not None:\n",
    "                val_list.append(special)\n",
    "            else:\n",
    "                print(f\"Warning: Unrecognized character '{letter}' ignored.\")\n",
    "\n",
    "    result = convert_nums_to_text(val_list)\n",
    "    output_result(result, encrypting)"
   ]
  },
  {
   "cell_type": "code",
   "execution_count": 6,
   "metadata": {},
   "outputs": [],
   "source": [
    "# --- UI Functions ---\n",
    "\n",
    "def cipherChoice():\n",
    "    while True:\n",
    "        choice = input(\"Would you like to use Caesar Cipher or Vigenere Cipher? (C/V): \").lower()\n",
    "        if choice in ['c', 'caesar']:\n",
    "            return 'c'\n",
    "        elif choice in ['v', 'vigenere']:\n",
    "            return 'v'\n",
    "        print(\"Invalid choice. Please enter 'C' or 'V'.\")\n",
    "\n",
    "def encodeOrDecode(cipher):\n",
    "    phrase = \"Caesar Cipher\" if cipher == 'c' else \"Vigenere Cipher\"\n",
    "    while True:\n",
    "        action = input(f\"Do you want to encipher or decipher a {phrase}? (E/D): \").lower()\n",
    "        if action in ['e', 'd']:\n",
    "            return action\n",
    "        print(\"Invalid choice. Please enter 'E' or 'D'.\")\n",
    "\n",
    "def run_ciphers(cipher_choice, e_or_d):\n",
    "    if cipher_choice == 'c':\n",
    "        CaesarCipher(e_or_d)\n",
    "    else:\n",
    "        VigenereCipher(e_or_d)"
   ]
  },
  {
   "cell_type": "code",
   "execution_count": 15,
   "metadata": {},
   "outputs": [
    {
     "name": "stdout",
     "output_type": "stream",
     "text": [
      "\n",
      "Your deciphered message is:\n",
      "thanks for checking out my old project, this ones from high school!\n"
     ]
    }
   ],
   "source": [
    "# --- Main Execution ---\n",
    "\n",
    "def main():\n",
    "    cipher_choice = cipherChoice()\n",
    "    e_or_d = encodeOrDecode(cipher_choice)\n",
    "    run_ciphers(cipher_choice, e_or_d)\n",
    "\n",
    "if __name__ == \"__main__\":\n",
    "    main()"
   ]
  }
 ],
 "metadata": {
  "kernelspec": {
   "display_name": "dsc80",
   "language": "python",
   "name": "python3"
  },
  "language_info": {
   "codemirror_mode": {
    "name": "ipython",
    "version": 3
   },
   "file_extension": ".py",
   "mimetype": "text/x-python",
   "name": "python",
   "nbconvert_exporter": "python",
   "pygments_lexer": "ipython3",
   "version": "3.12.8"
  }
 },
 "nbformat": 4,
 "nbformat_minor": 4
}
